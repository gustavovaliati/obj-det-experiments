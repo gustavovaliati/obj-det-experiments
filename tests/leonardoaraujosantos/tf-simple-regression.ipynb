{
 "cells": [
  {
   "cell_type": "code",
   "execution_count": 1,
   "metadata": {},
   "outputs": [],
   "source": [
    "import numpy as np\n",
    "import tensorflow as tf\n",
    "import matplotlib.pyplot as plt\n",
    "get_ipython().magic(u'matplotlib inline')"
   ]
  },
  {
   "cell_type": "code",
   "execution_count": 2,
   "metadata": {},
   "outputs": [],
   "source": [
    "# Create 100 points following a function y=0.1 * x + 0.3 with some normal random distribution\n",
    "num_points = 100\n",
    "vectors_set = []\n",
    "for i in range(num_points):\n",
    "    x1 = np.random.normal(0.0, 0.55)\n",
    "    y1 = x1 * 0.1 + 0.3 + np.random.normal(0.0, 0.03)\n",
    "    vectors_set.append([x1, y1])\n",
    "\n",
    "x_data = [v[0] for v in vectors_set]\n",
    "y_data = [v[1] for v in vectors_set]"
   ]
  },
  {
   "cell_type": "code",
   "execution_count": 3,
   "metadata": {},
   "outputs": [
    {
     "data": {
      "image/png": "[encoded data removed]",
      "text/plain": [
       "<matplotlib.figure.Figure at 0x7f9a6e6c6a90>"
      ]
     },
     "metadata": {},
     "output_type": "display_data"
    }
   ],
   "source": [
    "# Plot data\n",
    "plt.plot(x_data, y_data, 'r*', label='Original data')\n",
    "plt.legend()\n",
    "plt.show()"
   ]
  },
  {
   "cell_type": "code",
   "execution_count": 8,
   "metadata": {},
   "outputs": [],
   "source": [
    "# Create our linear regression model\n",
    "# Variables resides internally inside the graph memory\n",
    "\n",
    "#tf.name_scope organize things on the tensorboard graphview\n",
    "with tf.name_scope(\"LinearReg\") as scope:\n",
    "    W = tf.Variable(tf.random_uniform([1], -1.0, 1.0), name=\"Weights\")\n",
    "    b = tf.Variable(tf.zeros([1.0]), name=\"Bias\")\n",
    "    y = W * x_data + b\n",
    "\n",
    "# Define a loss function that take into account the distance between\n",
    "# the prediction and our dataset\n",
    "with tf.name_scope(\"LossFunc\") as scope:\n",
    "    loss = tf.reduce_mean(tf.square(y-y_data))\n",
    "\n",
    "# Create an optimizer for our loss function\n",
    "optimizer = tf.train.GradientDescentOptimizer(0.5)\n",
    "train = optimizer.minimize(loss)\n",
    "\n",
    "#### Tensorboard stuff\n",
    "# Annotate loss, weights and bias (Needed for tensorboard)\n",
    "loss_summary = tf.summary.scalar(\"loss\", loss)\n",
    "w_h = tf.summary.histogram(\"W\", W)\n",
    "b_h = tf.summary.histogram(\"b\", b)\n",
    "\n",
    "# Merge all the summaries\n",
    "merged_op = tf.summary.merge_all()"
   ]
  },
  {
   "cell_type": "code",
   "execution_count": 11,
   "metadata": {},
   "outputs": [
    {
     "name": "stdout",
     "output_type": "stream",
     "text": [
      "WARNING:tensorflow:Passing a `GraphDef` to the SummaryWriter is deprecated. Pass a `Graph` object instead, such as `sess.graph`.\n",
      "Step=0, loss=0.03144536167383194, [W=[ 0.44151083] b=[ 0.34661788]]\n",
      "Step=1, loss=0.01720396801829338, [W=[ 0.35186929] b=[ 0.33238751]]\n",
      "Step=2, loss=0.00962329562753439, [W=[ 0.28612044] b=[ 0.32469583]]\n",
      "Step=3, loss=0.005584338679909706, [W=[ 0.23813164] b=[ 0.31905428]]\n",
      "Step=4, loss=0.0034323970321565866, [W=[ 0.20310318] b=[ 0.31493658]]\n",
      "Step=5, loss=0.002285848604515195, [W=[ 0.17753488] b=[ 0.31193098]]\n",
      "Step=6, loss=0.0016749718924984336, [W=[ 0.15887183] b=[ 0.30973712]]\n",
      "Step=7, loss=0.0013494986342266202, [W=[ 0.14524913] b=[ 0.30813572]]\n"
     ]
    },
    {
     "data": {
      "image/png": "[encoded data removed]",
      "text/plain": [
       "<matplotlib.figure.Figure at 0x7f9a6e682b38>"
      ]
     },
     "metadata": {},
     "output_type": "display_data"
    }
   ],
   "source": [
    "# Run session\n",
    "# Initialize all graph variables\n",
    "init = tf.initialize_all_variables()\n",
    "# Create a session and initialize the graph variables (Will acutally run now...)\n",
    "session = tf.Session()\n",
    "session.run(init)\n",
    "\n",
    "# Writer for tensorboard (Directory)\n",
    "writer_tensorboard = tf.summary.FileWriter('./summaries', session.graph_def)\n",
    "\n",
    "# Train on 8 steps\n",
    "for step in range(8):\n",
    "    # Optimize one step\n",
    "    session.run(train)\n",
    "    # Get access to graph variables(just read) with session.run(varName)    \n",
    "    print(\"Step={}, loss={}, [W={} b={}]\".format(step,session.run(loss),session.run(W),session.run(b)))\n",
    "    # Add summary (Everytime could be to much....)\n",
    "    result_summary = session.run(merged_op)    \n",
    "    writer_tensorboard.add_summary(result_summary, step)\n",
    "\n",
    "# Just plot the set of weights and bias with less loss (last)\n",
    "plt.plot(x_data, y_data, 'ro')\n",
    "plt.plot(x_data, session.run(W) * x_data + session.run(b))\n",
    "plt.xlabel('x')\n",
    "plt.ylabel('y')\n",
    "plt.legend()\n",
    "plt.show()\n",
    "\n",
    "# Close the Session when we're done.\n",
    "session.close()"
   ]
  },
  {
   "cell_type": "code",
   "execution_count": null,
   "metadata": {},
   "outputs": [],
   "source": []
  }
 ],
 "metadata": {
  "kernelspec": {
   "display_name": "Python 3",
   "language": "python",
   "name": "python3"
  },
  "language_info": {
   "codemirror_mode": {
    "name": "ipython",
    "version": 3
   },
   "file_extension": ".py",
   "mimetype": "text/x-python",
   "name": "python",
   "nbconvert_exporter": "python",
   "pygments_lexer": "ipython3",
   "version": "3.5.2"
  }
 },
 "nbformat": 4,
 "nbformat_minor": 2
}
